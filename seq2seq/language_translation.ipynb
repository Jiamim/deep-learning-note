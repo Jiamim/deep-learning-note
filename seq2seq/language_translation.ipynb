{
 "cells": [
  {
   "cell_type": "markdown",
   "metadata": {
    "collapsed": true
   },
   "source": [
    "# 语言翻译\n",
    "　　使用seq2seq模型将句子从英语翻译成法语。\n",
    "## Get the Data\n",
    "　　因为将整个英语语言翻译成法语需要花费大量时间，这里只使用一小部分英语的语料库进行训练。"
   ]
  },
  {
   "cell_type": "code",
   "execution_count": 1,
   "metadata": {},
   "outputs": [
    {
     "name": "stderr",
     "output_type": "stream",
     "text": [
      "C:\\Martin_Program\\Anaconda3\\lib\\site-packages\\h5py\\__init__.py:34: FutureWarning: Conversion of the second argument of issubdtype from `float` to `np.floating` is deprecated. In future, it will be treated as `np.float64 == np.dtype(float).type`.\n",
      "  from ._conv import register_converters as _register_converters\n"
     ]
    }
   ],
   "source": [
    "import helper\n",
    "import problem_unittests as tests\n",
    "\n",
    "source_path = 'data/small_vocab_en'\n",
    "target_path = 'data/small_vocab_fr'\n",
    "source_text = helper.load_data(source_path)\n",
    "target_text = helper.load_data(target_path)"
   ]
  },
  {
   "cell_type": "markdown",
   "metadata": {},
   "source": [
    "## Explore the Data\n",
    "　　使用 view_sentence_range 来查看数据的不同部分。"
   ]
  },
  {
   "cell_type": "code",
   "execution_count": 2,
   "metadata": {},
   "outputs": [
    {
     "name": "stdout",
     "output_type": "stream",
     "text": [
      "Dataset Stats\n",
      "Roughly the number of unique words: 227\n",
      "Number of sentences: 137861\n",
      "Average number of words in a sentence: 13.225277634719028\n",
      "\n",
      "English sentences 0 to 10:\n",
      "new jersey is sometimes quiet during autumn , and it is snowy in april .\n",
      "the united states is usually chilly during july , and it is usually freezing in november .\n",
      "california is usually quiet during march , and it is usually hot in june .\n",
      "the united states is sometimes mild during june , and it is cold in september .\n",
      "your least liked fruit is the grape , but my least liked is the apple .\n",
      "his favorite fruit is the orange , but my favorite is the grape .\n",
      "paris is relaxing during december , but it is usually chilly in july .\n",
      "new jersey is busy during spring , and it is never hot in march .\n",
      "our least liked fruit is the lemon , but my least liked is the grape .\n",
      "the united states is sometimes busy during january , and it is sometimes warm in november .\n",
      "\n",
      "French sentences 0 to 10:\n",
      "new jersey est parfois calme pendant l' automne , et il est neigeux en avril .\n",
      "les états-unis est généralement froid en juillet , et il gèle habituellement en novembre .\n",
      "california est généralement calme en mars , et il est généralement chaud en juin .\n",
      "les états-unis est parfois légère en juin , et il fait froid en septembre .\n",
      "votre moins aimé fruit est le raisin , mais mon moins aimé est la pomme .\n",
      "son fruit préféré est l'orange , mais mon préféré est le raisin .\n",
      "paris est relaxant en décembre , mais il est généralement froid en juillet .\n",
      "new jersey est occupé au printemps , et il est jamais chaude en mars .\n",
      "notre fruit est moins aimé le citron , mais mon moins aimé est le raisin .\n",
      "les états-unis est parfois occupé en janvier , et il est parfois chaud en novembre .\n"
     ]
    }
   ],
   "source": [
    "view_sentence_range = (0, 10)\n",
    "\n",
    "import numpy as np\n",
    "\n",
    "print('Dataset Stats')\n",
    "print('Roughly the number of unique words: {}'.format(len({word: None for word in source_text.split()})))\n",
    "\n",
    "sentences = source_text.split('\\n')\n",
    "word_counts = [len(sentence.split()) for sentence in sentences]\n",
    "print('Number of sentences: {}'.format(len(sentences)))\n",
    "print('Average number of words in a sentence: {}'.format(np.average(word_counts)))\n",
    "\n",
    "print()\n",
    "print('English sentences {} to {}:'.format(*view_sentence_range))\n",
    "print('\\n'.join(source_text.split('\\n')[view_sentence_range[0]:view_sentence_range[1]]))\n",
    "print()\n",
    "print('French sentences {} to {}:'.format(*view_sentence_range))\n",
    "print('\\n'.join(target_text.split('\\n')[view_sentence_range[0]:view_sentence_range[1]]))"
   ]
  },
  {
   "cell_type": "markdown",
   "metadata": {},
   "source": [
    "## 实现预处理函数\n",
    "### 将文本转为词id\n",
    "　　就像做其它RNN任务一样，首先需要将文本转为数字。使用自定义函数  `text_to_ids()` 将 `source_text` 和 `target_text` 从单词转为数字ID。但是，还需要在 `target_text` 的末尾处添加 `<EOS>`  字符，这有助于神经网络预测句子何时结束。"
   ]
  },
  {
   "cell_type": "code",
   "execution_count": 3,
   "metadata": {},
   "outputs": [
    {
     "name": "stdout",
     "output_type": "stream",
     "text": [
      "Tests Passed\n"
     ]
    }
   ],
   "source": [
    "def text_to_ids(source_text, target_text, source_vocab_to_int, target_vocab_to_int):\n",
    "    '''\n",
    "    将 source 和 target 文本转为适当的词ID\n",
    "    Args:\n",
    "        - source_text: 输入文本（英语）；\n",
    "        - target_text: 目标文本（法语）；\n",
    "        - source_vocab_to_int: 输入文本的映射字典，用于将输入文本的词转为ID；\n",
    "        - target_vocab_to_int: 目标文本的映射字典，用于将目标文本的词转为ID；\n",
    "    return:\n",
    "        返回包含元组的列表，每组元组为  (source_id_text, target_id_text)\n",
    "    '''\n",
    "\n",
    "    source_sentences = [sentence for sentence in source_text.split('\\n')]\n",
    "    target_sentences = [sentence + ' <EOS>' for sentence in target_text.split('\\n')]\n",
    "    \n",
    "    source_id_text = [[source_vocab_to_int[word] for word in sentence.split()] for sentence in source_sentences]\n",
    "    target_id_text = [[target_vocab_to_int[word] for word in sentence.split()] for sentence in target_sentences]\n",
    "    \n",
    "    return source_id_text, target_id_text\n",
    "\n",
    "tests.test_text_to_ids(text_to_ids)"
   ]
  },
  {
   "cell_type": "markdown",
   "metadata": {},
   "source": [
    "### 预处理所有数据，并保存\n",
    "　　运行下面代码预处理所有数据，并保存为文件。"
   ]
  },
  {
   "cell_type": "code",
   "execution_count": 4,
   "metadata": {
    "collapsed": true
   },
   "outputs": [],
   "source": [
    "helper.preprocess_and_save_data(source_path, target_path, text_to_ids)"
   ]
  },
  {
   "cell_type": "markdown",
   "metadata": {},
   "source": [
    "# 检查点\n",
    "　　这是第一个检查点，如果决定重启 notebook，可以从这里开始，预处理已经保存到磁盘。"
   ]
  },
  {
   "cell_type": "code",
   "execution_count": 5,
   "metadata": {
    "collapsed": true
   },
   "outputs": [],
   "source": [
    "import numpy as np\n",
    "import helper\n",
    "import problem_unittests as tests\n",
    "\n",
    "# 每个单词一个id\n",
    "(source_int_text, target_int_text), (source_vocab_to_int, target_vocab_to_int), _ = helper.load_preprocess()"
   ]
  },
  {
   "cell_type": "markdown",
   "metadata": {},
   "source": [
    "## 建立神经网络\n",
    "　　seq2seq模型由以下几个部分组成:\n",
    "- `model_inputs（模型输入）`\n",
    "- `process_decoder_input`\n",
    "- `encoding_layer`\n",
    "- `decoding_layer_train`\n",
    "- `decoding_layer_infer`\n",
    "- `decoding_layer`\n",
    "- `seq2seq_model`\n",
    "\n",
    "### 模型输入\n",
    "　　实现 `model_inputs()`  函数为神经网络创建占位符:\n",
    "- 输入文本的占位符，为  'input' ，维度为2；\n",
    "- 目标文本的占位符，维度为2；\n",
    "- 学习速率占位符；\n",
    "- dropout 保留概率的占位符，为 'keep_prob'；\n",
    "- 目标序列长度的占位符，为 'target_sequence_length'；\n",
    "- 目标序列最大长度的占位符，为 'max_target_len'，通过对 target_sequence_length 使用 tf.reduce_max 获得；\n",
    "- 输入序列长度的占位符，为 'source_sequence_length'。"
   ]
  },
  {
   "cell_type": "code",
   "execution_count": 6,
   "metadata": {},
   "outputs": [
    {
     "name": "stdout",
     "output_type": "stream",
     "text": [
      "Tests Passed\n"
     ]
    }
   ],
   "source": [
    "import tensorflow as tf\n",
    "\n",
    "def model_inputs():\n",
    "    input_data = tf.placeholder(tf.int32, [None, None], name='input')\n",
    "    targets = tf.placeholder(tf.int32, [None, None], name='targets')\n",
    "    lr = tf.placeholder(tf.float32, None, name='learning_rate')\n",
    "    keep_prob = tf.placeholder(tf.float32, None, name='keep_prob')\n",
    "    target_sequence_length = tf.placeholder(tf.int32, (None,), name='target_sequence_length')\n",
    "    max_target_sequence_length = tf.reduce_max(target_sequence_length, name='max_target_sequence_length')\n",
    "    source_sequence_length = tf.placeholder(tf.int32, (None,), name='source_sequence_length')\n",
    "                                            \n",
    "    return input_data, targets, lr, keep_prob, target_sequence_length, max_target_sequence_length, source_sequence_length\n",
    "\n",
    "\n",
    "tests.test_model_inputs(model_inputs)"
   ]
  },
  {
   "cell_type": "markdown",
   "metadata": {},
   "source": [
    "### 处理解码器的输入\n",
    "　　实现 `process_decoder_input` 来移除每个batch每个序列的最后一个词id，因为解码器没用到。以及在每个batch每个序列开头添加'GO'字符串标识对应的ID，表示从这里开始。"
   ]
  },
  {
   "cell_type": "code",
   "execution_count": 7,
   "metadata": {},
   "outputs": [
    {
     "name": "stdout",
     "output_type": "stream",
     "text": [
      "Tests Passed\n"
     ]
    }
   ],
   "source": [
    "def process_decoder_input(target_data, target_vocab_to_int, batch_size):\n",
    "    '''\n",
    "    处理目标数据用于编码\n",
    "    Args:\n",
    "        - target_data: 目标数据的占位符;\n",
    "        - target_vocab_to_int: 映射词典，将目标数据的词映射为ID;\n",
    "        - batch_size: 每个 batch 的大小;\n",
    "    return:\n",
    "        返回预处理的目标数据\n",
    "    '''\n",
    "    # 对每个 batch 移除最后一个词，并在开头添加 <GO>\n",
    "    ending = tf.strided_slice(target_data, [0, 0], [batch_size, -1], [1, 1])\n",
    "    # tf.fill(dims, value)参数会生成一个dims形状并用value填充的tensor\n",
    "    # tf.fill([2,2], 7) => [[7,7], [7,7]]。tf.concat()会按照某个维度将两个tensor拼接起来\n",
    "    dec_input = tf.concat([tf.fill([batch_size, 1], target_vocab_to_int['<GO>']), ending], 1)\n",
    "\n",
    "    return dec_input\n",
    "\n",
    "tests.test_process_encoding_input(process_decoder_input)"
   ]
  },
  {
   "cell_type": "markdown",
   "metadata": {},
   "source": [
    "### 编码器\n",
    "　　实现 `encoding_layer()` 来创建编码器RNN层:\n",
    "\n",
    " * 使用 [`tf.contrib.layers.embed_sequence`](https://www.tensorflow.org/api_docs/python/tf/contrib/layers/embed_sequence) 对编码输入进行 embe\n",
    " * 构建一个包含 [`tf.contrib.rnn.DropoutWrapper`](https://www.tensorflow.org/api_docs/python/tf/contrib/rnn/DropoutWrapper) 的 [stacked](https://github.com/tensorflow/tensorflow/blob/6947f65a374ebf29e74bb71e36fd82760056d82c/tensorflow/docs_src/tutorials/recurrent.md#stacking-multiple-lstms) 的 [`tf.contrib.rnn.LSTMCell`](https://www.tensorflow.org/api_docs/python/tf/contrib/rnn/LSTMCell) \n",
    " * 将神经层单元 cell 和经过 embedding 的输入传入 [`tf.nn.dynamic_rnn()`](https://www.tensorflow.org/api_docs/python/tf/nn/dynamic_rnn)"
   ]
  },
  {
   "cell_type": "code",
   "execution_count": 8,
   "metadata": {
    "scrolled": false
   },
   "outputs": [
    {
     "name": "stdout",
     "output_type": "stream",
     "text": [
      "Tests Passed\n"
     ]
    }
   ],
   "source": [
    "from imp import reload\n",
    "reload(tests)\n",
    "\n",
    "def encoding_layer(rnn_inputs, rnn_size, num_layers, keep_prob, \n",
    "                   source_sequence_length, source_vocab_size, \n",
    "                   encoding_embedding_size):\n",
    "    '''\n",
    "    创建编码层（器）\n",
    "    Args:\n",
    "        - rnn_inputs: RNN 的输入\n",
    "        - rnn_size: RNN 隐藏层的神经元数\n",
    "        - num_layers: 堆叠的 rnn cell 数量\n",
    "        - keep_prob: dropout 保留概率\n",
    "        - source_sequence_length: 在 batch 中每个序列的长度\n",
    "        - source_vocab_size: 输入数据的词汇表大小\n",
    "        - encoding_embedding_size: 对输入数据 embedding 的大小\n",
    "    return:\n",
    "        返回编码器的输出和隐藏层的状态，tuple (RNN output, RNN state)\n",
    "    '''\n",
    "    # 对输入数据进行 embedding\n",
    "    enc_embed_input = tf.contrib.layers.embed_sequence(rnn_inputs, source_vocab_size, encoding_embedding_size)\n",
    "    \n",
    "    # 初始化 RNN\n",
    "    def rnnCell(rnn_size):\n",
    "        enc_cell = tf.contrib.rnn.LSTMCell(rnn_size, initializer=tf.random_uniform_initializer(-0.1, 0.1, seed=2))\n",
    "        return enc_cell\n",
    "    \n",
    "    # 根据 num_layers 堆叠 rnn cell\n",
    "    enc_cell = tf.contrib.rnn.MultiRNNCell([rnnCell(rnn_size) for _ in range(num_layers)])\n",
    "    \n",
    "    # 动态 RNN\n",
    "    enc_output, enc_state = tf.nn.dynamic_rnn(cell=enc_cell, inputs=enc_embed_input,\n",
    "                                              sequence_length=source_sequence_length, dtype=tf.float32)\n",
    "    \n",
    "    return enc_output, enc_state\n",
    "\n",
    "tests.test_encoding_layer(encoding_layer)"
   ]
  },
  {
   "cell_type": "markdown",
   "metadata": {},
   "source": [
    "### training decoder\n",
    "* 创建 [`tf.contrib.seq2seq.TrainingHelper`](https://www.tensorflow.org/api_docs/python/tf/contrib/seq2seq/TrainingHelper) \n",
    "* 创建 [`tf.contrib.seq2seq.BasicDecoder`](https://www.tensorflow.org/api_docs/python/tf/contrib/seq2seq/BasicDecoder)\n",
    "* 从 [`tf.contrib.seq2seq.dynamic_decode`](https://www.tensorflow.org/api_docs/python/tf/contrib/seq2seq/dynamic_decode) 获取解码器的输出"
   ]
  },
  {
   "cell_type": "code",
   "execution_count": 9,
   "metadata": {},
   "outputs": [
    {
     "name": "stdout",
     "output_type": "stream",
     "text": [
      "Tests Passed\n"
     ]
    }
   ],
   "source": [
    "def decoding_layer_train(encoder_state, dec_cell, dec_embed_input, \n",
    "                         target_sequence_length, max_summary_length, \n",
    "                         output_layer, keep_prob):\n",
    "    '''\n",
    "    创建 training decoder\n",
    "    Args:\n",
    "        - encoder_state: 编码器状态\n",
    "        - dec_cell: 解码器的 cell\n",
    "        - dec_embed_input: 解码器的 embedded input\n",
    "        - target_sequence_length: 目标数据每个 batch 的每个序列的长度\n",
    "        - max_summary_length: batch 里最大序列长度\n",
    "        - output_layer: 应用于输出层的函数\n",
    "        - keep_prob: dropout 保留概率\n",
    "    return:\n",
    "        BasicDecoderOutput 包含 training logits 和 sample_id\n",
    "    '''\n",
    "    training_helper = tf.contrib.seq2seq.TrainingHelper(\n",
    "                                                        # 嵌入矩阵\n",
    "                                                        inputs=dec_embed_input,\n",
    "                                                        # 当前batch中每个序列的长度\n",
    "                                                        sequence_length=target_sequence_length,\n",
    "                                                        # 为False，则输入为 [batch_size, sequence_length, embedding_size]\n",
    "                                                        # 为True，则输入为 [sequence_length, batch_size, embedding_size\n",
    "                                                        time_major=False)\n",
    "    # Basic decoder\n",
    "    # BasicDecoder的作用就是定义一个封装了decoder应该有的功能的实例，根据Helper实例的不同，这个decoder\n",
    "    #可以实现不同的功能，比如在train的阶段，不把输出重新作为输入，而在inference阶段，将输出接到输入\n",
    "    training_decoder = tf.contrib.seq2seq.BasicDecoder(\n",
    "                                                        dec_cell,\n",
    "                                                        training_helper,\n",
    "                                                        encoder_state,\n",
    "                                                        output_layer)\n",
    "\n",
    "    training_decoder_output = tf.contrib.seq2seq.dynamic_decode(\n",
    "                                                        training_decoder,\n",
    "                                                        impute_finished=True,\n",
    "                                                        maximum_iterations=max_summary_length)[0]\n",
    "    \n",
    "    \n",
    "    return training_decoder_output\n",
    "\n",
    "tests.test_decoding_layer_train(decoding_layer_train)"
   ]
  },
  {
   "cell_type": "markdown",
   "metadata": {},
   "source": [
    "### inference decoder\n",
    "* 创建 [`tf.contrib.seq2seq.GreedyEmbeddingHelper`](https://www.tensorflow.org/api_docs/python/tf/contrib/seq2seq/GreedyEmbeddingHelper)\n",
    "* 创建 [`tf.contrib.seq2seq.BasicDecoder`](https://www.tensorflow.org/api_docs/python/tf/contrib/seq2seq/BasicDecoder)\n",
    "* 从 [`tf.contrib.seq2seq.dynamic_decode`](https://www.tensorflow.org/api_docs/python/tf/contrib/seq2seq/dynamic_decode) 获取解码器的输出"
   ]
  },
  {
   "cell_type": "code",
   "execution_count": 10,
   "metadata": {
    "scrolled": true
   },
   "outputs": [
    {
     "name": "stdout",
     "output_type": "stream",
     "text": [
      "Tests Passed\n"
     ]
    }
   ],
   "source": [
    "def decoding_layer_infer(encoder_state, dec_cell, dec_embeddings, start_of_sequence_id,\n",
    "                         end_of_sequence_id, max_target_sequence_length,\n",
    "                         vocab_size, output_layer, batch_size, keep_prob):\n",
    "    '''\n",
    "    创建 inference decoder\n",
    "    Args:\n",
    "        - encoder_state: 编码器的状态\n",
    "        - dec_cell: 解码器的 cell\n",
    "        - dec_embeddings: 解码器的 embedded input\n",
    "        - start_of_sequence_id: 给序列开头添加标识符 '<GO>' 的映射ID\n",
    "        - end_of_sequence_id: 给序列结尾添加标识 '<EOS>' 的映射ID\n",
    "        - max_target_sequence_length: 目标序列的最大长度\n",
    "        - vocab_size: 解码器或目标词汇表的大小\n",
    "        - decoding_scope: 用于 decoding 的 TenorFlow Variable Scope\n",
    "        - output_layer: 应用于输出层的函数\n",
    "        - batch_size: batch 的大小\n",
    "        - keep_prob: dropout 保留概率\n",
    "    return:\n",
    "        BasicDecoderOutput 包含 inference logits 和 sample_id\n",
    "    '''\n",
    "    # 创建一个常量 tensor 并复制为 batch_size 的大小\n",
    "    start_tokens = tf.tile(tf.constant([start_of_sequence_id], dtype=tf.int32), [batch_size], name='start_tokens')\n",
    "    # 这是用于inference阶段的helper，将output输出后的logits使用argmax获得id再经过embedding layer来获取下一时刻的输入。\n",
    "    inference_helper = tf.contrib.seq2seq.GreedyEmbeddingHelper(\n",
    "                                                            dec_embeddings,\n",
    "                                                            start_tokens,\n",
    "                                                            end_of_sequence_id)\n",
    "\n",
    "    inference_decoder = tf.contrib.seq2seq.BasicDecoder(\n",
    "                                                            dec_cell,\n",
    "                                                            inference_helper,\n",
    "                                                            encoder_state,\n",
    "                                                            output_layer)\n",
    "\n",
    "    inference_decoder_output = tf.contrib.seq2seq.dynamic_decode(\n",
    "                                                            inference_decoder,\n",
    "                                                            impute_finished=True,\n",
    "                                                            maximum_iterations=max_target_sequence_length)[0]\n",
    "\n",
    "    return inference_decoder_output\n",
    "\n",
    "tests.test_decoding_layer_infer(decoding_layer_infer)"
   ]
  },
  {
   "cell_type": "markdown",
   "metadata": {},
   "source": [
    "### 建立解码层\n",
    "　　使用 `decoding_layer()` 创建解码 RNN 层\n",
    "* 对目标序列进行 embedding\n",
    "* 构建解码器的 LSTM cell\n",
    "* 创建输出层，将解码器的输出映射到词汇表的某个词\n",
    "* 使用 `decoding_layer_train(encoder_state, dec_cell, dec_embed_input, target_sequence_length, max_target_sequence_length, output_layer, keep_prob)` 函数获得 training logits.\n",
    "* 使用 `decoding_layer_infer(encoder_state, dec_cell, dec_embeddings, start_of_sequence_id, end_of_sequence_id, max_target_sequence_length, vocab_size, output_layer, batch_size, keep_prob)` 函数获得 inference logits.\n",
    "\n",
    "注意: 需要使用 [tf.variable_scope](https://www.tensorflow.org/api_docs/python/tf/variable_scope) 来共享 training 和 inference 之间的变量（参数）"
   ]
  },
  {
   "cell_type": "code",
   "execution_count": 11,
   "metadata": {},
   "outputs": [
    {
     "name": "stdout",
     "output_type": "stream",
     "text": [
      "Tests Passed\n"
     ]
    }
   ],
   "source": [
    "from tensorflow.python.layers.core import Dense\n",
    "\n",
    "def decoding_layer(dec_input, encoder_state,\n",
    "                   target_sequence_length, max_target_sequence_length,\n",
    "                   rnn_size,\n",
    "                   num_layers, target_vocab_to_int, target_vocab_size,\n",
    "                   batch_size, keep_prob, decoding_embedding_size):\n",
    "    '''\n",
    "    创建解码层\n",
    "    Args:\n",
    "        - dec_input: 解码器的输入\n",
    "        - encoder_state: 编码器的状态\n",
    "        - target_sequence_length: 每个batch的每个序列长度\n",
    "        - max_target_sequence_length: 目标序列的最大长度\n",
    "        - rnn_size: rnn 神经元数\n",
    "        - num_layers: 神经元层数\n",
    "        - target_vocab_to_int: 映射字典，将目标序列的词映射为数字ID\n",
    "        - target_vocab_size: 目标序列词汇表的大小\n",
    "        - batch_size: batch的大小\n",
    "        - keep_prob: dropout 保留概率\n",
    "        - decoding_embedding_size: 解码的embedding大小\n",
    "    return:\n",
    "        返回 (Training BasicDecoderOutput, Inference BasicDecoderOutput)\n",
    "    '''\n",
    "    # embedding\n",
    "    dec_embeddings = tf.Variable(tf.random_uniform([target_vocab_size, decoding_embedding_size]))\n",
    "    dec_embed_input = tf.nn.embedding_lookup(dec_embeddings, dec_input)\n",
    "    \n",
    "    # 构建 decoder cell\n",
    "    def rnnCell(rnn_size):\n",
    "        dec_cell = tf.contrib.rnn.LSTMCell(rnn_size, initializer=tf.random_uniform_initializer(-0.1, 0.1, seed=2018))\n",
    "        return dec_cell\n",
    "    \n",
    "    # 使用 num_layers 构建多层 cell\n",
    "    dec_cell = tf.contrib.rnn.MultiRNNCell([rnnCell(rnn_size) for _ in range(num_layers)])\n",
    "    \n",
    "    # 全连接层将每个时间步长的解码器的输出转为词汇表中的选择\n",
    "    output_layer = Dense(target_vocab_size, kernel_initializer=tf.truncated_normal_initializer(mean=0.0, stddev=0.1))\n",
    "    \n",
    "    # 设置 training decode 和 inference decoder\n",
    "    # training decode\n",
    "    with tf.variable_scope('decode'):\n",
    "        training_logits = decoding_layer_train(encoder_state, dec_cell, dec_embed_input, \n",
    "                                                                     target_sequence_length, max_target_sequence_length, \n",
    "                                                                     output_layer, keep_prob)\n",
    "    # inference Decoder\n",
    "    # 与 training decode 共享参数\n",
    "    with tf.variable_scope('decode', reuse=True):\n",
    "        inference_logits = decoding_layer_infer(encoder_state, dec_cell, dec_embeddings, target_vocab_to_int['<GO>'],\n",
    "                                                                        target_vocab_to_int['<EOS>'], max_target_sequence_length,\n",
    "                                                                        target_vocab_size, output_layer, batch_size, keep_prob)\n",
    "    \n",
    "    \n",
    "    return training_logits, inference_logits\n",
    "        \n",
    "tests.test_decoding_layer(decoding_layer)"
   ]
  },
  {
   "cell_type": "markdown",
   "metadata": {},
   "source": [
    "### 建立神经网络\n",
    "- 使用 `encoding_layer(rnn_inputs, rnn_size, num_layers, keep_prob,  source_sequence_length, source_vocab_size, encoding_embedding_size)` 函数对输入进行 embedding；\n",
    "- 使用 `process_decoder_input(target_data, target_vocab_to_int, batch_size)` 函数处理目标序列数据；\n",
    "- 使用 `decoding_layer(dec_input, enc_state, target_sequence_length, max_target_sentence_length, rnn_size, num_layers, target_vocab_to_int, target_vocab_size, batch_size, keep_prob, dec_embedding_size)` 函数对编码的输入进行解码输出"
   ]
  },
  {
   "cell_type": "code",
   "execution_count": 12,
   "metadata": {},
   "outputs": [
    {
     "name": "stdout",
     "output_type": "stream",
     "text": [
      "Tests Passed\n"
     ]
    }
   ],
   "source": [
    "def seq2seq_model(input_data, target_data, keep_prob, batch_size,\n",
    "                  source_sequence_length, target_sequence_length,\n",
    "                  max_target_sentence_length,\n",
    "                  source_vocab_size, target_vocab_size,\n",
    "                  enc_embedding_size, dec_embedding_size,\n",
    "                  rnn_size, num_layers, target_vocab_to_int):\n",
    "    '''\n",
    "    建立seq2seq模型\n",
    "    Args:\n",
    "        - input_data: 输入占位符\n",
    "        - target_data: 目标序列的占位符\n",
    "        - keep_prob: dropout保留概率，占位符\n",
    "        - batch_size: batch的大小\n",
    "        - source_sequence_length: 每个batch每个输入序列的长度\n",
    "        - target_sequence_length: 每个batch每个目标序列的长度\n",
    "        - max_target_sentence_length: 目标序列的最大长度\n",
    "        - source_vocab_size: 输入序列词汇表的大小\n",
    "        - target_vocab_size: 目标序列词汇表的大小\n",
    "        - enc_embedding_size: 编码的embedding大小\n",
    "        - dec_embedding_size: 解码的embedding大小\n",
    "        - rnn_size: rnn 神经元数\n",
    "        - num_layers: 神经元层数\n",
    "        - target_vocab_to_int: 映射字典，将目标序列的词映射为数字ID\n",
    "    return:\n",
    "        返回 (Training BasicDecoderOutput, Inference BasicDecoderOutput)\n",
    "    '''\n",
    "    # 将输入数据传到编码器，忽视编码器的输出，而使用其隐藏层状态输出\n",
    "    _, enc_state = encoding_layer(input_data, rnn_size, num_layers, keep_prob, source_sequence_length, \n",
    "                                  source_vocab_size, enc_embedding_size)\n",
    "    \n",
    "    # 对目标序列进行预处理，并传给解码器\n",
    "    dec_input = process_decoder_input(target_data, target_vocab_to_int, batch_size) \n",
    "    \n",
    "    # 将编码器的隐藏层状态向量和解码器的输入（目标序列）传到解码器\n",
    "    training_decoder_output, inference_decoder_output = decoding_layer(dec_input, enc_state, target_sequence_length, \n",
    "                                                                       max_target_sentence_length, rnn_size, num_layers, target_vocab_to_int, \n",
    "                                                                       target_vocab_size, batch_size, keep_prob, dec_embedding_size)\n",
    "    \n",
    "    return training_decoder_output, inference_decoder_output\n",
    "\n",
    "tests.test_seq2seq_model(seq2seq_model)"
   ]
  },
  {
   "cell_type": "markdown",
   "metadata": {},
   "source": [
    "## seq2seq模型训练\n",
    "### 超参数"
   ]
  },
  {
   "cell_type": "code",
   "execution_count": 18,
   "metadata": {
    "collapsed": true
   },
   "outputs": [],
   "source": [
    "# 迭代次数\n",
    "epochs = 5\n",
    "# batch 大小\n",
    "batch_size = 128\n",
    "# 神经元数\n",
    "rnn_size = 64\n",
    "# 神经元层数\n",
    "num_layers = 2\n",
    "# Embedding 大小\n",
    "encoding_embedding_size = 30\n",
    "decoding_embedding_size = 30\n",
    "# 学习速率\n",
    "learning_rate = 0.001\n",
    "# dropout 保留概率\n",
    "keep_probability = 0.5\n",
    "display_step = 64"
   ]
  },
  {
   "cell_type": "markdown",
   "metadata": {},
   "source": [
    "### 建立 Graph"
   ]
  },
  {
   "cell_type": "code",
   "execution_count": 14,
   "metadata": {
    "collapsed": true
   },
   "outputs": [],
   "source": [
    "save_path = 'checkpoints/dev'\n",
    "(source_int_text, target_int_text), (source_vocab_to_int, target_vocab_to_int), _ = helper.load_preprocess()\n",
    "max_target_sentence_length = max([len(sentence) for sentence in source_int_text])\n",
    "\n",
    "train_graph = tf.Graph()\n",
    "with train_graph.as_default():\n",
    "    input_data, targets, lr, keep_prob, target_sequence_length, max_target_sequence_length, source_sequence_length = model_inputs()\n",
    "\n",
    "    #sequence_length = tf.placeholder_with_default(max_target_sentence_length, None, name='sequence_length')\n",
    "    input_shape = tf.shape(input_data)\n",
    "    \n",
    "    train_logits, inference_logits = seq2seq_model(tf.reverse(input_data, [-1]),\n",
    "                                                   targets,\n",
    "                                                   keep_prob,\n",
    "                                                   batch_size,\n",
    "                                                   source_sequence_length,\n",
    "                                                   target_sequence_length,\n",
    "                                                   max_target_sequence_length,\n",
    "                                                   len(source_vocab_to_int),\n",
    "                                                   len(target_vocab_to_int),\n",
    "                                                   encoding_embedding_size,\n",
    "                                                   decoding_embedding_size,\n",
    "                                                   rnn_size,\n",
    "                                                   num_layers,\n",
    "                                                   target_vocab_to_int)\n",
    "\n",
    "\n",
    "    training_logits = tf.identity(train_logits.rnn_output, name='logits')\n",
    "    inference_logits = tf.identity(inference_logits.sample_id, name='predictions')\n",
    "\n",
    "    masks = tf.sequence_mask(target_sequence_length, max_target_sequence_length, dtype=tf.float32, name='masks')\n",
    "\n",
    "    with tf.name_scope(\"optimization\"):\n",
    "        # Loss function\n",
    "        cost = tf.contrib.seq2seq.sequence_loss(\n",
    "            training_logits,\n",
    "            targets,\n",
    "            masks)\n",
    "\n",
    "        # Optimizer\n",
    "        optimizer = tf.train.AdamOptimizer(lr)\n",
    "\n",
    "        # Gradient Clipping\n",
    "        gradients = optimizer.compute_gradients(cost)\n",
    "        capped_gradients = [(tf.clip_by_value(grad, -1., 1.), var) for grad, var in gradients if grad is not None]\n",
    "        train_op = optimizer.apply_gradients(capped_gradients)\n"
   ]
  },
  {
   "cell_type": "markdown",
   "metadata": {},
   "source": [
    "对每个batch的输入序列和目标序列进行填充，使batch的每个序列长度保持一致"
   ]
  },
  {
   "cell_type": "code",
   "execution_count": 15,
   "metadata": {
    "collapsed": true
   },
   "outputs": [],
   "source": [
    "def pad_sentence_batch(sentence_batch, pad_int):\n",
    "    '''使用<PAD>进行填充，是的batch的每个序列长度保持一致'''\n",
    "    max_sentence = max([len(sentence) for sentence in sentence_batch])\n",
    "    return [sentence + [pad_int] * (max_sentence - len(sentence)) for sentence in sentence_batch]\n",
    "\n",
    "\n",
    "def get_batches(sources, targets, batch_size, source_pad_int, target_pad_int):\n",
    "    '''生成输入序列和目标序列的批量数据'''\n",
    "    for batch_i in range(0, len(sources)//batch_size):\n",
    "        start_i = batch_i * batch_size\n",
    "\n",
    "        # 根据索引来切分batch\n",
    "        sources_batch = sources[start_i:start_i + batch_size]\n",
    "        targets_batch = targets[start_i:start_i + batch_size]\n",
    "\n",
    "        # 填充，保持序列长度一致\n",
    "        pad_sources_batch = np.array(pad_sentence_batch(sources_batch, source_pad_int))\n",
    "        pad_targets_batch = np.array(pad_sentence_batch(targets_batch, target_pad_int))\n",
    "\n",
    "        # 保存序列长度\n",
    "        pad_targets_lengths = []\n",
    "        for target in pad_targets_batch:\n",
    "            pad_targets_lengths.append(len(target))\n",
    "\n",
    "        pad_source_lengths = []\n",
    "        for source in pad_sources_batch:\n",
    "            pad_source_lengths.append(len(source))\n",
    "\n",
    "        yield pad_sources_batch, pad_targets_batch, pad_source_lengths, pad_targets_lengths\n"
   ]
  },
  {
   "cell_type": "markdown",
   "metadata": {},
   "source": [
    "### Train\n",
    "　　对预处理好的数据进行神经网络训练"
   ]
  },
  {
   "cell_type": "code",
   "execution_count": 19,
   "metadata": {
    "scrolled": false
   },
   "outputs": [
    {
     "name": "stdout",
     "output_type": "stream",
     "text": [
      "Epoch   0 Batch   64/1077 - Train Accuracy: 0.3063, Validation Accuracy: 0.3665, Loss: 3.2900\n",
      "Epoch   0 Batch  128/1077 - Train Accuracy: 0.3575, Validation Accuracy: 0.3778, Loss: 2.8477\n",
      "Epoch   0 Batch  192/1077 - Train Accuracy: 0.3719, Validation Accuracy: 0.4254, Loss: 2.8108\n",
      "Epoch   0 Batch  256/1077 - Train Accuracy: 0.3918, Validation Accuracy: 0.4489, Loss: 2.6002\n",
      "Epoch   0 Batch  320/1077 - Train Accuracy: 0.4242, Validation Accuracy: 0.4663, Loss: 2.4379\n",
      "Epoch   0 Batch  384/1077 - Train Accuracy: 0.4555, Validation Accuracy: 0.4979, Loss: 2.2887\n",
      "Epoch   0 Batch  448/1077 - Train Accuracy: 0.4621, Validation Accuracy: 0.4886, Loss: 2.1422\n",
      "Epoch   0 Batch  512/1077 - Train Accuracy: 0.4449, Validation Accuracy: 0.5028, Loss: 2.0589\n",
      "Epoch   0 Batch  576/1077 - Train Accuracy: 0.4276, Validation Accuracy: 0.4762, Loss: 2.0188\n",
      "Epoch   0 Batch  640/1077 - Train Accuracy: 0.4449, Validation Accuracy: 0.4851, Loss: 1.6839\n",
      "Epoch   0 Batch  704/1077 - Train Accuracy: 0.4020, Validation Accuracy: 0.4506, Loss: 1.6135\n",
      "Epoch   0 Batch  768/1077 - Train Accuracy: 0.3941, Validation Accuracy: 0.4503, Loss: 1.4614\n",
      "Epoch   0 Batch  832/1077 - Train Accuracy: 0.3848, Validation Accuracy: 0.4254, Loss: 1.3194\n",
      "Epoch   0 Batch  896/1077 - Train Accuracy: 0.3392, Validation Accuracy: 0.4027, Loss: 1.3258\n",
      "Epoch   0 Batch  960/1077 - Train Accuracy: 0.3575, Validation Accuracy: 0.3722, Loss: 1.1270\n",
      "Epoch   0 Batch 1024/1077 - Train Accuracy: 0.3195, Validation Accuracy: 0.3232, Loss: 1.1736\n",
      "Epoch   1 Batch   64/1077 - Train Accuracy: 0.3785, Validation Accuracy: 0.4286, Loss: 1.0413\n",
      "Epoch   1 Batch  128/1077 - Train Accuracy: 0.4345, Validation Accuracy: 0.4474, Loss: 0.9428\n",
      "Epoch   1 Batch  192/1077 - Train Accuracy: 0.4090, Validation Accuracy: 0.4577, Loss: 0.9695\n",
      "Epoch   1 Batch  256/1077 - Train Accuracy: 0.4230, Validation Accuracy: 0.4606, Loss: 0.9520\n",
      "Epoch   1 Batch  320/1077 - Train Accuracy: 0.4273, Validation Accuracy: 0.4844, Loss: 0.8940\n",
      "Epoch   1 Batch  384/1077 - Train Accuracy: 0.5281, Validation Accuracy: 0.5547, Loss: 0.8495\n",
      "Epoch   1 Batch  448/1077 - Train Accuracy: 0.5488, Validation Accuracy: 0.5781, Loss: 0.8436\n",
      "Epoch   1 Batch  512/1077 - Train Accuracy: 0.5434, Validation Accuracy: 0.5803, Loss: 0.7978\n",
      "Epoch   1 Batch  576/1077 - Train Accuracy: 0.5592, Validation Accuracy: 0.5831, Loss: 0.8078\n",
      "Epoch   1 Batch  640/1077 - Train Accuracy: 0.5312, Validation Accuracy: 0.5877, Loss: 0.7300\n",
      "Epoch   1 Batch  704/1077 - Train Accuracy: 0.5434, Validation Accuracy: 0.5920, Loss: 0.7474\n",
      "Epoch   1 Batch  768/1077 - Train Accuracy: 0.5746, Validation Accuracy: 0.5835, Loss: 0.7031\n",
      "Epoch   1 Batch  832/1077 - Train Accuracy: 0.5785, Validation Accuracy: 0.5877, Loss: 0.7031\n",
      "Epoch   1 Batch  896/1077 - Train Accuracy: 0.5403, Validation Accuracy: 0.5788, Loss: 0.7408\n",
      "Epoch   1 Batch  960/1077 - Train Accuracy: 0.6068, Validation Accuracy: 0.6001, Loss: 0.6424\n",
      "Epoch   1 Batch 1024/1077 - Train Accuracy: 0.6035, Validation Accuracy: 0.5895, Loss: 0.6840\n",
      "Epoch   2 Batch   64/1077 - Train Accuracy: 0.5637, Validation Accuracy: 0.6168, Loss: 0.6269\n",
      "Epoch   2 Batch  128/1077 - Train Accuracy: 0.6436, Validation Accuracy: 0.6172, Loss: 0.5816\n",
      "Epoch   2 Batch  192/1077 - Train Accuracy: 0.6043, Validation Accuracy: 0.6072, Loss: 0.6159\n",
      "Epoch   2 Batch  256/1077 - Train Accuracy: 0.5801, Validation Accuracy: 0.6388, Loss: 0.6201\n",
      "Epoch   2 Batch  320/1077 - Train Accuracy: 0.6230, Validation Accuracy: 0.6321, Loss: 0.5861\n",
      "Epoch   2 Batch  384/1077 - Train Accuracy: 0.6250, Validation Accuracy: 0.6396, Loss: 0.5608\n",
      "Epoch   2 Batch  448/1077 - Train Accuracy: 0.5961, Validation Accuracy: 0.6467, Loss: 0.5703\n",
      "Epoch   2 Batch  512/1077 - Train Accuracy: 0.6461, Validation Accuracy: 0.6587, Loss: 0.5395\n",
      "Epoch   2 Batch  576/1077 - Train Accuracy: 0.6361, Validation Accuracy: 0.6673, Loss: 0.5543\n",
      "Epoch   2 Batch  640/1077 - Train Accuracy: 0.6079, Validation Accuracy: 0.6594, Loss: 0.5062\n",
      "Epoch   2 Batch  704/1077 - Train Accuracy: 0.6078, Validation Accuracy: 0.6520, Loss: 0.5237\n",
      "Epoch   2 Batch  768/1077 - Train Accuracy: 0.6645, Validation Accuracy: 0.6701, Loss: 0.4962\n",
      "Epoch   2 Batch  832/1077 - Train Accuracy: 0.6367, Validation Accuracy: 0.6555, Loss: 0.5093\n",
      "Epoch   2 Batch  896/1077 - Train Accuracy: 0.6234, Validation Accuracy: 0.6534, Loss: 0.5313\n",
      "Epoch   2 Batch  960/1077 - Train Accuracy: 0.6410, Validation Accuracy: 0.6605, Loss: 0.4579\n",
      "Epoch   2 Batch 1024/1077 - Train Accuracy: 0.6543, Validation Accuracy: 0.6456, Loss: 0.4928\n",
      "Epoch   3 Batch   64/1077 - Train Accuracy: 0.6109, Validation Accuracy: 0.6499, Loss: 0.4493\n",
      "Epoch   3 Batch  128/1077 - Train Accuracy: 0.7042, Validation Accuracy: 0.6538, Loss: 0.4172\n",
      "Epoch   3 Batch  192/1077 - Train Accuracy: 0.6836, Validation Accuracy: 0.6776, Loss: 0.4443\n",
      "Epoch   3 Batch  256/1077 - Train Accuracy: 0.6418, Validation Accuracy: 0.6747, Loss: 0.4544\n",
      "Epoch   3 Batch  320/1077 - Train Accuracy: 0.6582, Validation Accuracy: 0.6900, Loss: 0.4378\n",
      "Epoch   3 Batch  384/1077 - Train Accuracy: 0.7145, Validation Accuracy: 0.6637, Loss: 0.4076\n",
      "Epoch   3 Batch  448/1077 - Train Accuracy: 0.6961, Validation Accuracy: 0.6673, Loss: 0.4144\n",
      "Epoch   3 Batch  512/1077 - Train Accuracy: 0.7055, Validation Accuracy: 0.6754, Loss: 0.3871\n",
      "Epoch   3 Batch  576/1077 - Train Accuracy: 0.6900, Validation Accuracy: 0.6854, Loss: 0.4121\n",
      "Epoch   3 Batch  640/1077 - Train Accuracy: 0.6979, Validation Accuracy: 0.6953, Loss: 0.3696\n",
      "Epoch   3 Batch  704/1077 - Train Accuracy: 0.6824, Validation Accuracy: 0.6768, Loss: 0.3961\n",
      "Epoch   3 Batch  768/1077 - Train Accuracy: 0.6910, Validation Accuracy: 0.6804, Loss: 0.3631\n",
      "Epoch   3 Batch  832/1077 - Train Accuracy: 0.7008, Validation Accuracy: 0.7045, Loss: 0.3771\n",
      "Epoch   3 Batch  896/1077 - Train Accuracy: 0.6579, Validation Accuracy: 0.7145, Loss: 0.3897\n",
      "Epoch   3 Batch  960/1077 - Train Accuracy: 0.7217, Validation Accuracy: 0.7045, Loss: 0.3315\n",
      "Epoch   3 Batch 1024/1077 - Train Accuracy: 0.7113, Validation Accuracy: 0.7113, Loss: 0.3550\n",
      "Epoch   4 Batch   64/1077 - Train Accuracy: 0.6820, Validation Accuracy: 0.7287, Loss: 0.3117\n",
      "Epoch   4 Batch  128/1077 - Train Accuracy: 0.7950, Validation Accuracy: 0.7315, Loss: 0.3017\n",
      "Epoch   4 Batch  192/1077 - Train Accuracy: 0.7586, Validation Accuracy: 0.7159, Loss: 0.3304\n",
      "Epoch   4 Batch  256/1077 - Train Accuracy: 0.7117, Validation Accuracy: 0.7344, Loss: 0.3207\n",
      "Epoch   4 Batch  320/1077 - Train Accuracy: 0.7453, Validation Accuracy: 0.7319, Loss: 0.3157\n",
      "Epoch   4 Batch  384/1077 - Train Accuracy: 0.7676, Validation Accuracy: 0.7298, Loss: 0.2797\n",
      "Epoch   4 Batch  448/1077 - Train Accuracy: 0.7441, Validation Accuracy: 0.7376, Loss: 0.2967\n",
      "Epoch   4 Batch  512/1077 - Train Accuracy: 0.7797, Validation Accuracy: 0.7312, Loss: 0.2653\n",
      "Epoch   4 Batch  576/1077 - Train Accuracy: 0.7541, Validation Accuracy: 0.7482, Loss: 0.2812\n",
      "Epoch   4 Batch  640/1077 - Train Accuracy: 0.7530, Validation Accuracy: 0.7663, Loss: 0.2575\n",
      "Epoch   4 Batch  704/1077 - Train Accuracy: 0.7449, Validation Accuracy: 0.7440, Loss: 0.2754\n",
      "Epoch   4 Batch  768/1077 - Train Accuracy: 0.7426, Validation Accuracy: 0.7741, Loss: 0.2443\n",
      "Epoch   4 Batch  832/1077 - Train Accuracy: 0.7586, Validation Accuracy: 0.7663, Loss: 0.2531\n",
      "Epoch   4 Batch  896/1077 - Train Accuracy: 0.7274, Validation Accuracy: 0.7560, Loss: 0.2558\n",
      "Epoch   4 Batch  960/1077 - Train Accuracy: 0.7909, Validation Accuracy: 0.7599, Loss: 0.2189\n",
      "Epoch   4 Batch 1024/1077 - Train Accuracy: 0.7828, Validation Accuracy: 0.7837, Loss: 0.2379\n",
      "Model Trained and Saved\n"
     ]
    }
   ],
   "source": [
    "def get_accuracy(target, logits):\n",
    "    \"\"\"\n",
    "    计算准确率\n",
    "    \"\"\"\n",
    "    max_seq = max(target.shape[1], logits.shape[1])\n",
    "    if max_seq - target.shape[1]:\n",
    "        target = np.pad(\n",
    "            target,\n",
    "            [(0,0),(0,max_seq - target.shape[1])],\n",
    "            'constant')\n",
    "    if max_seq - logits.shape[1]:\n",
    "        logits = np.pad(\n",
    "            logits,\n",
    "            [(0,0),(0,max_seq - logits.shape[1])],\n",
    "            'constant')\n",
    "\n",
    "    return np.mean(np.equal(target, logits))\n",
    "\n",
    "# 切分训练集和验证集\n",
    "train_source = source_int_text[batch_size:]\n",
    "train_target = target_int_text[batch_size:]\n",
    "valid_source = source_int_text[:batch_size]\n",
    "valid_target = target_int_text[:batch_size]\n",
    "(valid_sources_batch, valid_targets_batch, valid_sources_lengths, valid_targets_lengths ) = next(get_batches(valid_source,\n",
    "                                                                                                             valid_target,\n",
    "                                                                                                             batch_size,\n",
    "                                                                                                             source_vocab_to_int['<PAD>'],\n",
    "                                                                                                             target_vocab_to_int['<PAD>']))                                                                                                  \n",
    "with tf.Session(graph=train_graph) as sess:\n",
    "    sess.run(tf.global_variables_initializer())\n",
    "\n",
    "    for epoch_i in range(epochs):\n",
    "        for batch_i, (source_batch, target_batch, sources_lengths, targets_lengths) in enumerate(\n",
    "                get_batches(train_source, train_target, batch_size,\n",
    "                            source_vocab_to_int['<PAD>'],\n",
    "                            target_vocab_to_int['<PAD>'])):\n",
    "\n",
    "            _, loss = sess.run(\n",
    "                [train_op, cost],\n",
    "                {input_data: source_batch,\n",
    "                 targets: target_batch,\n",
    "                 lr: learning_rate,\n",
    "                 target_sequence_length: targets_lengths,\n",
    "                 source_sequence_length: sources_lengths,\n",
    "                 keep_prob: keep_probability})\n",
    "\n",
    "\n",
    "            if batch_i % display_step == 0 and batch_i > 0:\n",
    "\n",
    "\n",
    "                batch_train_logits = sess.run(\n",
    "                    inference_logits,\n",
    "                    {input_data: source_batch,\n",
    "                     source_sequence_length: sources_lengths,\n",
    "                     target_sequence_length: targets_lengths,\n",
    "                     keep_prob: 1.0})\n",
    "\n",
    "\n",
    "                batch_valid_logits = sess.run(\n",
    "                    inference_logits,\n",
    "                    {input_data: valid_sources_batch,\n",
    "                     source_sequence_length: valid_sources_lengths,\n",
    "                     target_sequence_length: valid_targets_lengths,\n",
    "                     keep_prob: 1.0})\n",
    "\n",
    "                train_acc = get_accuracy(target_batch, batch_train_logits)\n",
    "\n",
    "                valid_acc = get_accuracy(valid_targets_batch, batch_valid_logits)\n",
    "\n",
    "                print('Epoch {:>3} Batch {:>4}/{} - Train Accuracy: {:>6.4f}, Validation Accuracy: {:>6.4f}, Loss: {:>6.4f}'\n",
    "                      .format(epoch_i, batch_i, len(source_int_text) // batch_size, train_acc, valid_acc, loss))\n",
    "\n",
    "    # 保存模型\n",
    "    saver = tf.train.Saver()\n",
    "    saver.save(sess, save_path)\n",
    "    print('Model Trained and Saved')"
   ]
  },
  {
   "cell_type": "markdown",
   "metadata": {},
   "source": [
    "### Save Parameters\n",
    "　　保存 `batch_size` 和 `save_path` 的 inference 参数"
   ]
  },
  {
   "cell_type": "code",
   "execution_count": 20,
   "metadata": {
    "collapsed": true
   },
   "outputs": [],
   "source": [
    "# 保存检查点的参数\n",
    "helper.save_params(save_path)"
   ]
  },
  {
   "cell_type": "markdown",
   "metadata": {},
   "source": [
    "# Checkpoint"
   ]
  },
  {
   "cell_type": "code",
   "execution_count": 21,
   "metadata": {
    "collapsed": true
   },
   "outputs": [],
   "source": [
    "import tensorflow as tf\n",
    "import numpy as np\n",
    "import helper\n",
    "import problem_unittests as tests\n",
    "\n",
    "_, (source_vocab_to_int, target_vocab_to_int), (source_int_to_vocab, target_int_to_vocab) = helper.load_preprocess()\n",
    "load_path = helper.load_params()"
   ]
  },
  {
   "cell_type": "markdown",
   "metadata": {},
   "source": [
    "## seq2seq\n",
    "　　要将一个句子放入模型进行翻译，需要先对其预处理。使用 `sentence_to_seq()`  函数来处理新句子\n",
    "\n",
    "- 将句子转换为小写\n",
    "- 使用 `vocab_to_int` 将词映射为ID\n",
    " - 在映射时，如果某个词不在词汇表里，则使用 `<UNK>` 的词id代替"
   ]
  },
  {
   "cell_type": "code",
   "execution_count": 22,
   "metadata": {},
   "outputs": [
    {
     "name": "stdout",
     "output_type": "stream",
     "text": [
      "Tests Passed\n"
     ]
    }
   ],
   "source": [
    "def sentence_to_seq(sentence, vocab_to_int):\n",
    "    '''\n",
    "    转换序列（词）为id序列\n",
    "    Args:\n",
    "        - sentence: string\n",
    "        - vocab_to_int: 映射字典，将词转换为id\n",
    "    return:\n",
    "        - 列表形式的词id\n",
    "    '''\n",
    "    sentence_id = [vocab_to_int[word] if word in vocab_to_int.keys() else vocab_to_int['<UNK>'] for word in sentence.lower().split()]\n",
    "    \n",
    "    return sentence_id\n",
    "\n",
    "tests.test_sentence_to_seq(sentence_to_seq)"
   ]
  },
  {
   "cell_type": "markdown",
   "metadata": {},
   "source": [
    "## Translate\n",
    "　　使用 `translate_sentence`  将英语转为法语"
   ]
  },
  {
   "cell_type": "code",
   "execution_count": 23,
   "metadata": {},
   "outputs": [
    {
     "name": "stdout",
     "output_type": "stream",
     "text": [
      "INFO:tensorflow:Restoring parameters from checkpoints/dev\n",
      "Input\n",
      "  Word Ids:      [211, 61, 57, 54, 138, 208, 97]\n",
      "  English Words: ['he', 'saw', 'a', 'old', 'yellow', 'truck', '.']\n",
      "\n",
      "Prediction\n",
      "  Word Ids:      [177, 251, 161, 174, 1]\n",
      "  French Words: il conduit un camion <EOS>\n"
     ]
    }
   ],
   "source": [
    "translate_sentence = 'he saw a old yellow truck .'\n",
    "\n",
    "translate_sentence = sentence_to_seq(translate_sentence, source_vocab_to_int)\n",
    "\n",
    "loaded_graph = tf.Graph()\n",
    "with tf.Session(graph=loaded_graph) as sess:\n",
    "    # 载入保存模型\n",
    "    loader = tf.train.import_meta_graph(load_path + '.meta')\n",
    "    loader.restore(sess, load_path)\n",
    "\n",
    "    input_data = loaded_graph.get_tensor_by_name('input:0')\n",
    "    logits = loaded_graph.get_tensor_by_name('predictions:0')\n",
    "    target_sequence_length = loaded_graph.get_tensor_by_name('target_sequence_length:0')\n",
    "    source_sequence_length = loaded_graph.get_tensor_by_name('source_sequence_length:0')\n",
    "    keep_prob = loaded_graph.get_tensor_by_name('keep_prob:0')\n",
    "\n",
    "    translate_logits = sess.run(logits, {input_data: [translate_sentence]*batch_size,\n",
    "                                         target_sequence_length: [len(translate_sentence)*2]*batch_size,\n",
    "                                         source_sequence_length: [len(translate_sentence)]*batch_size,\n",
    "                                         keep_prob: 1.0})[0]\n",
    "\n",
    "print('Input')\n",
    "print('  Word Ids:      {}'.format([i for i in translate_sentence]))\n",
    "print('  English Words: {}'.format([source_int_to_vocab[i] for i in translate_sentence]))\n",
    "\n",
    "print('\\nPrediction')\n",
    "print('  Word Ids:      {}'.format([i for i in translate_logits]))\n",
    "print('  French Words: {}'.format(\" \".join([target_int_to_vocab[i] for i in translate_logits])))"
   ]
  },
  {
   "cell_type": "code",
   "execution_count": null,
   "metadata": {
    "collapsed": true
   },
   "outputs": [],
   "source": []
  }
 ],
 "metadata": {
  "anaconda-cloud": {},
  "kernelspec": {
   "display_name": "Python 3",
   "language": "python",
   "name": "python3"
  },
  "language_info": {
   "codemirror_mode": {
    "name": "ipython",
    "version": 3
   },
   "file_extension": ".py",
   "mimetype": "text/x-python",
   "name": "python",
   "nbconvert_exporter": "python",
   "pygments_lexer": "ipython3",
   "version": "3.6.1"
  }
 },
 "nbformat": 4,
 "nbformat_minor": 1
}
